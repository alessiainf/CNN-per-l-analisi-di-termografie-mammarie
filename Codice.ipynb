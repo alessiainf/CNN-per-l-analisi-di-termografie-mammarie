{
 "cells": [
  {
   "cell_type": "markdown",
   "id": "a748aadd",
   "metadata": {},
   "source": [
    "# Grad-Cam su modello pre-addestrato"
   ]
  },
  {
   "cell_type": "markdown",
   "id": "4a4dbf88",
   "metadata": {},
   "source": [
    "### Dichiarazioni"
   ]
  },
  {
   "cell_type": "code",
   "execution_count": 1,
   "id": "580c8a33",
   "metadata": {},
   "outputs": [],
   "source": [
    "import os,glob\n",
    "import numpy as np\n",
    "import cv2\n",
    "import glob\n",
    "import pickle\n",
    "import tensorflow as tf\n",
    "import argparse\n",
    "import re\n",
    "import datetime\n",
    "from skimage.transform import rescale, resize, downscale_local_mean\n",
    "from tensorflow.keras.layers import  Input,Conv2D,BatchNormalization,Activation,Subtract,LeakyReLU,Add,Average,Lambda,MaxPool2D,Dropout,UpSampling2D,Concatenate,Multiply,GlobalAveragePooling2D,Dense,ZeroPadding2D,AveragePooling2D\n",
    "from tensorflow.keras.layers import concatenate,Flatten,ConvLSTM2D,MaxPooling2D,ReLU,Conv2DTranspose\n",
    "from tensorflow.keras.models import Model, load_model\n",
    "from tensorflow.keras.callbacks import CSVLogger, ModelCheckpoint, LearningRateScheduler\n",
    "from tensorflow.keras.optimizers import Adam\n",
    "import tensorflow.keras.backend as K\n",
    "from sklearn.svm import LinearSVC\n",
    "import matplotlib.pyplot as plt\n",
    "from numpy import loadtxt\n",
    "from xgboost import XGBClassifier\n",
    "from sklearn.model_selection import train_test_split\n",
    "from sklearn.metrics import accuracy_score\n",
    "from skimage.feature import hog,local_binary_pattern\n",
    "from skimage import data, exposure\n",
    "from skimage.transform import radon, rescale\n",
    "from skimage.filters import roberts, sobel, scharr, prewitt\n",
    "from skimage import feature\n"
   ]
  },
  {
   "cell_type": "markdown",
   "id": "1b6f9a06",
   "metadata": {},
   "source": [
    "## Caricamento del modello pre-addestrato in_pred"
   ]
  },
  {
   "cell_type": "markdown",
   "id": "657e3b5f",
   "metadata": {},
   "source": [
    "Riferimento: https://github.com/subro608/thermogram\n",
    "Viene anche definito il modello in_model basato sull'architettura DenseNet121 che nel modello generale si occupa delle operazioni di convoluzione"
   ]
  },
  {
   "cell_type": "code",
   "execution_count": 2,
   "id": "ced0a1ee",
   "metadata": {},
   "outputs": [
    {
     "name": "stdout",
     "output_type": "stream",
     "text": [
      "Model: \"model\"\n",
      "_________________________________________________________________\n",
      " Layer (type)                Output Shape              Param #   \n",
      "=================================================================\n",
      " input_2 (InputLayer)        [(None, 224, 224, 3)]     0         \n",
      "                                                                 \n",
      " densenet121 (Functional)    (None, 7, 7, 1024)        7037504   \n",
      "                                                                 \n",
      " flatten (Flatten)           (None, 50176)             0         \n",
      "                                                                 \n",
      " dense (Dense)               (None, 4096)              205524992 \n",
      "                                                                 \n",
      " dense_1 (Dense)             (None, 4096)              16781312  \n",
      "                                                                 \n",
      " dense_2 (Dense)             (None, 2)                 8194      \n",
      "                                                                 \n",
      "=================================================================\n",
      "Total params: 229352002 (874.91 MB)\n",
      "Trainable params: 222314498 (848.06 MB)\n",
      "Non-trainable params: 7037504 (26.85 MB)\n",
      "_________________________________________________________________\n"
     ]
    }
   ],
   "source": [
    "from tensorflow.keras.models import load_model\n",
    "\n",
    "in_pred = load_model('in_pred.keras')\n",
    "\n",
    "in_model = tf.keras.applications.DenseNet121(input_shape=(224,224,3),\n",
    "                                               include_top=False,\n",
    "                                               weights='imagenet',classes = 2)\n",
    "\n",
    "#viene bloccato l'aggiornamento dei pesi durante l'addestramento del modello complessivo\n",
    "in_model.trainable = False\n",
    "inputs = tf.keras.Input(shape=(224,224,3))\n",
    "\n",
    "in_pred.summary()"
   ]
  },
  {
   "cell_type": "markdown",
   "id": "d4de8d3c",
   "metadata": {},
   "source": [
    "## Preparazione del set di valutazione"
   ]
  },
  {
   "cell_type": "markdown",
   "id": "c149ee71",
   "metadata": {},
   "source": [
    "Il dataset usato è il DMR-IR (http://visual.ic.uff.br/en/proeng/thiagoelias/) e contiene il ROI delle immagini in scala di grigi.\n",
    "Le immagini sono opportunamente divise in \"DOENTES\" (sane) e \"SAUDVEIS\" (non sane).\n",
    "\n",
    "Analogamente al codice usato qui https://github.com/subro608/thermogram, il set di validazione viene opportunamente diviso.\n",
    "Vengono create due liste di file \"affected_files_test\" e \"healthy_files_test\" che contengono i percorsi delle immagini (.png) e dei file di testo (.txt) concatenate con un \"|\". La prima lista contiene i percorsi delle immagini non sane mentre la seconda contiene i percorsi delle immagini sane."
   ]
  },
  {
   "cell_type": "code",
   "execution_count": 11,
   "id": "12249a1b",
   "metadata": {},
   "outputs": [
    {
     "name": "stdout",
     "output_type": "stream",
     "text": [
      "950\n"
     ]
    }
   ],
   "source": [
    "string = [650,700]\n",
    "affected_files_text2 = []\n",
    "for f in string:\n",
    "    list1 = []\n",
    "    normal_dir = \"Imagens e Matrizes da Tese de Thiago Alves Elias da Silva/Desenvolvimento da Metodologia/DOENTES/{}/Segmentadas\".format(f)\n",
    "    normal_dir_text = \"Imagens e Matrizes da Tese de Thiago Alves Elias da Silva/Desenvolvimento da Metodologia/DOENTES/{}/Matrizes\".format(f)\n",
    "    dir1 = os.path.join(normal_dir,\"*.png\")\n",
    "    normal_files = glob.glob(dir1)\n",
    "    dir2 = os.path.join(normal_dir_text,\"*.txt\")\n",
    "    normal_files_text = glob.glob(dir2)\n",
    "\n",
    "    try:\n",
    "        for i in range(len(normal_files)):\n",
    "            list1.append(normal_files[i]+\"|\"+normal_files_text[i])\n",
    "    except:\n",
    "        print(f)\n",
    "            \n",
    "    affected_files_text2.extend(list1)\n",
    "    \n",
    "string2 = [950]\n",
    "\n",
    "healthy_files_text2 = []\n",
    "for f in string2:\n",
    "    list2 = []\n",
    "    normal_dir = \"Imagens e Matrizes da Tese de Thiago Alves Elias da Silva/Desenvolvimento da Metodologia/SAUDVEIS/{}/Segmentadas\".format(f)\n",
    "    normal_dir_text = \"Imagens e Matrizes da Tese de Thiago Alves Elias da Silva/Desenvolvimento da Metodologia/SAUDVEIS/{}/Matrizes\".format(f)\n",
    "    dir1 = os.path.join(normal_dir,\"*.png\")\n",
    "    normal_files = glob.glob(dir1)\n",
    "    dir2 = os.path.join(normal_dir_text,\"*.txt\")\n",
    "    normal_files_text = glob.glob(dir2)\n",
    "    #print(len(normal_files),f)\n",
    "    try:\n",
    "        for i in range(len(normal_files)):\n",
    "            list2.append(normal_files[i]+\"|\"+normal_files_text[i])\n",
    "    except:\n",
    "        print(f)\n",
    "            \n",
    "    healthy_files_text2.extend(list2)"
   ]
  },
  {
   "cell_type": "code",
   "execution_count": 12,
   "id": "30c7fc65",
   "metadata": {},
   "outputs": [],
   "source": [
    "affected_files_test = []\n",
    "affected_files_test.extend(affected_files_text2)\n",
    "healthy_files_test = []\n",
    "healthy_files_test.extend(healthy_files_text2)"
   ]
  },
  {
   "cell_type": "markdown",
   "id": "1d43dc32",
   "metadata": {},
   "source": [
    "Viene creato il dizionario \"test_dic\" che ha come chiave i file immagini e di testo associati ai dati di validazione.\n",
    "\n",
    "Per le immagini di pazienti sani (SAUDVEIS) viene associata l'etichetta [0,1]. Per le immagini di pazienti non sani (DOENTES) viene associata l'etichetta [1,0]."
   ]
  },
  {
   "cell_type": "code",
   "execution_count": 13,
   "id": "8d7d34f4",
   "metadata": {},
   "outputs": [],
   "source": [
    "test_dic = {}\n",
    "for f in affected_files_test:\n",
    "  test_dic[f] = [1,0]\n",
    "for f in healthy_files_test:\n",
    "  test_dic[f] = [0,1]"
   ]
  },
  {
   "cell_type": "code",
   "execution_count": 14,
   "id": "332c359b",
   "metadata": {},
   "outputs": [],
   "source": [
    "#import random\n",
    "l_test = list(test_dic.items())\n",
    "#random.shuffle(l_test)"
   ]
  },
  {
   "cell_type": "markdown",
   "id": "9debc907",
   "metadata": {},
   "source": [
    "I dati vengono preparati per essere dati in input al modello.\n",
    "Vengono utilizzati due operatori di rilevamento di bordi (Roberts e Sobel) per evidenziare i contorni delle immagini.  I dati saranno array NumPy di dimensione 224X224 pixel a 3 canali di colore (RGB).\n",
    "\n",
    "test_data contiene le immagini ridimensionate e normalizzate, test_labels contiene le etichette associate a ciascuna immagine e test_text contiene una combinazione di informazioni sull'immagine originale e sulla rilevazione dei bordi."
   ]
  },
  {
   "cell_type": "code",
   "execution_count": 15,
   "id": "0777d78b",
   "metadata": {},
   "outputs": [
    {
     "name": "stdout",
     "output_type": "stream",
     "text": [
      "(61, 224, 224, 3)\n",
      "(61, 224, 224, 3)\n",
      "(61, 2)\n",
      "^_^-testing data finished-^_^\n"
     ]
    }
   ],
   "source": [
    "test_text = []\n",
    "data = []\n",
    "labels = []\n",
    "for i in range(len(l_test)):\n",
    "    file_name,label = l_test[i]\n",
    "    a,b = file_name.split(\"|\")\n",
    "    img = cv2.imread(a)\n",
    "    arr_1 = np.empty((480,640))\n",
    "    try:\n",
    "        with open(b,\"r\") as f:\n",
    "            arr = f.readlines()\n",
    "            for i in range(len(arr)):\n",
    "                arr_2 = []\n",
    "                for j in arr[i].split():\n",
    "                    arr_2.append(float(j))\n",
    "                arr_1[i] = np.asarray(arr_2) \n",
    "        img = np.asarray(img)\n",
    "        arr_1 = np.asarray(arr_1) \n",
    "        edge_roberts = roberts(arr_1)\n",
    "        edge_sobel = sobel(arr_1) \n",
    "        img = cv2.resize(img,(224,224),interpolation = cv2.INTER_AREA)\n",
    "        arr_img = cv2.resize(arr_1,(224,224),interpolation = cv2.INTER_CUBIC)\n",
    "        s_img = cv2.resize(edge_roberts,(224,224),interpolation = cv2.INTER_CUBIC)\n",
    "        r_img = cv2.resize(edge_sobel,(224,224),interpolation = cv2.INTER_CUBIC)\n",
    "        arr_3 = np.expand_dims(arr_img,axis = -1)\n",
    "        arr_2 = np.expand_dims(r_img,axis = -1)\n",
    "        arr_1 = np.expand_dims(s_img,axis = -1)\n",
    "        img2 = np.concatenate((arr_3,arr_2,arr_1),axis = -1)\n",
    "        height, width = img.shape[:2]\n",
    "        img2 = img2.astype('float32')/255.0\n",
    "        img = img.astype('float32')/255.0\n",
    "        test_text.append(img2)\n",
    "        data.append(img)\n",
    "        labels.append(label)\n",
    "\n",
    "    except:\n",
    "        print(i,file_name)\n",
    "        print(\"Not possible\")  \n",
    "  \n",
    "       \n",
    "test_data = np.array(data)\n",
    "print(test_data.shape)\n",
    "test_text = np.array(test_text)\n",
    "print(test_text.shape)\n",
    "test_labels = np.array(labels)\n",
    "print(test_labels.shape)    \n",
    "\n",
    "print('^_^-testing data finished-^_^')"
   ]
  },
  {
   "cell_type": "markdown",
   "id": "9c528e49",
   "metadata": {},
   "source": [
    "# Grad-Cam"
   ]
  },
  {
   "cell_type": "markdown",
   "id": "36681703",
   "metadata": {},
   "source": [
    "Per valutare il modo in cui la rete prende determinate decisioni, viene usato \n",
    "Grad-Cam per evidenziare le parti che risultano rilevanti per la decisione \n",
    "finale presa dal modello.\n",
    "\n",
    "Individuo l'ultimo strato convoluzionale, che in questo caso corrisponde \n",
    "all'ultimo strato della rete DenseNet121 (conv5_block16_concat).\n",
    "Creo un modello \"last_conv_layer_model\" che ha gli stessi input di in_model e come output quello dell'ultimo strato convoluzionale"
   ]
  },
  {
   "cell_type": "code",
   "execution_count": 16,
   "id": "8da3b8a2",
   "metadata": {},
   "outputs": [],
   "source": [
    "last_conv_layer_name=\"conv5_block16_concat\"\n",
    "last_conv_layer=in_model.get_layer(last_conv_layer_name)\n",
    "last_conv_layer_model=tf.keras.Model(in_model.inputs, last_conv_layer.output)\n",
    "#last_conv_layer_model.summary()"
   ]
  },
  {
   "cell_type": "markdown",
   "id": "f650369f",
   "metadata": {},
   "source": [
    "Definisco un altro modello \"classifier_model\" che ha input nella forma (7,7,1024) provenienti da last_conv_layer_model e come output il tensore x \"passato attraverso\" gli strati densi definiti in classifier_layer_names."
   ]
  },
  {
   "cell_type": "code",
   "execution_count": 17,
   "id": "01c34090",
   "metadata": {},
   "outputs": [],
   "source": [
    "classifier_layer_names = [\"flatten\", \n",
    "                          \"dense\", \"dense_1\", \"dense_2\"]\n",
    "classifier_input=Input(shape=(7, 7, 1024))\n",
    "\n",
    "#inizializzo il tensore x con gli input del nuovo modello\n",
    "x=classifier_input\n",
    "#applico al tensore x ogni strato denso in classifier_layer_names\n",
    "for layer_name in classifier_layer_names:\n",
    "    x=in_pred.get_layer(layer_name)(x)\n",
    "    #creo il nuovo modello utilizzando gli input definiti in precedenza e come output x \n",
    "    #che è \"passato attraverso\" gli strati densi\n",
    "    classifier_model=Model(classifier_input, x)"
   ]
  },
  {
   "cell_type": "markdown",
   "id": "806846cb",
   "metadata": {},
   "source": [
    "Salvo in \"predizioni\" una lista di tutte le predizioni effettuate dal modello sul dataset di validazione"
   ]
  },
  {
   "cell_type": "code",
   "execution_count": 18,
   "id": "fd89689c",
   "metadata": {
    "scrolled": false
   },
   "outputs": [
    {
     "name": "stdout",
     "output_type": "stream",
     "text": [
      "2/2 [==============================] - 5s 2s/step\n"
     ]
    }
   ],
   "source": [
    "predizioni=in_pred.predict(test_text)"
   ]
  },
  {
   "cell_type": "markdown",
   "id": "4cc5f6da",
   "metadata": {},
   "source": [
    "Da qui in avanti è possibile eseguire ciclicamente i codici per vedere applicato Grad-Cam su immagini casuali del set di validazione"
   ]
  },
  {
   "cell_type": "code",
   "execution_count": 19,
   "id": "b1ea6890",
   "metadata": {},
   "outputs": [
    {
     "data": {
      "image/png": "[encoded data removed]",
      "text/plain": [
       "<Figure size 432x288 with 1 Axes>"
      ]
     },
     "metadata": {
      "needs_background": "light"
     },
     "output_type": "display_data"
    },
    {
     "name": "stdout",
     "output_type": "stream",
     "text": [
      "La paziente nella realtà è non sana\n",
      "Il modello restituisce le seguenti probabilità: [0.9309908  0.06900916]\n",
      "La paziente è classificata come non sana\n"
     ]
    }
   ],
   "source": [
    "import random\n",
    "# Estrai casualmente un indice da test_data\n",
    "random_index = random.randint(0, len(test_data) - 1)\n",
    "\n",
    "# Estrai l'immagine e il label corrispondente\n",
    "random_image = test_data[random_index]\n",
    "random_label = test_labels[random_index]\n",
    "\n",
    "# Visualizza l'immagine\n",
    "plt.imshow(random_image[:, :, 0], cmap='gray')  # Supponendo che tu voglia visualizzare solo il primo canale\n",
    "plt.title(f'Immagine casuale da test_data')\n",
    "plt.show()\n",
    "\n",
    "\n",
    "test_image = random_image\n",
    "test_image = cv2.resize(test_image, (224, 224)) \n",
    "im=tf.constant(test_image, dtype=tf.float32)\n",
    "img_array=tf.expand_dims(im, axis=0)\n",
    "#print(img_array.shape)\n",
    "\n",
    "#print(predizioni[random_index])\n",
    "#print(random_label)\n",
    "if np.array_equal(random_label, [0, 1]):\n",
    "    print(\"La paziente nella realtà è sana\")\n",
    "else:\n",
    "    print(\"La paziente nella realtà è non sana\")\n",
    "\n",
    "print(\"Il modello restituisce le seguenti probabilità: \" + str(predizioni[random_index]))\n",
    "output=np.argmax(predizioni[random_index])\n",
    "if output==0:\n",
    "    print(\"La paziente è classificata come non sana\")\n",
    "else:\n",
    "    print(\"La paziente è classificata come sana\")\n"
   ]
  },
  {
   "cell_type": "code",
   "execution_count": 20,
   "id": "567213e1",
   "metadata": {},
   "outputs": [],
   "source": [
    "with tf.GradientTape() as tape:\n",
    "    last_conv_layer_output = last_conv_layer_model(img_array) #output ultimo strato convoluzionale\n",
    "    #print(last_conv_layer_output.shape) -> (1, 7, 7, 1024)\n",
    "    preds=classifier_model(last_conv_layer_output) #predizione sull'output dell'ultimo strato convoluzionale\n",
    "    #print(preds)\n",
    "    top_pred_index=tf.argmax(preds[0]) #identifica l'indice della classe con probabilità più alta \n",
    "    #print(top_pred_index)\n",
    "    top_class_channel= preds[:, top_pred_index] #identifica la probabilità più alta (nella posizione top_pred_index)\n",
    "    #print(top_class_channel)\n",
    "\n",
    "grads=tape.gradient(top_class_channel, last_conv_layer_output)"
   ]
  },
  {
   "cell_type": "code",
   "execution_count": 21,
   "id": "98252f7d",
   "metadata": {},
   "outputs": [],
   "source": [
    "pooled_grads=tf.reduce_mean(grads, axis=(0,1,2)).numpy()"
   ]
  },
  {
   "cell_type": "code",
   "execution_count": 22,
   "id": "3fc087df",
   "metadata": {},
   "outputs": [],
   "source": [
    "last_conv_layer_output=last_conv_layer_output.numpy()[0]\n",
    "for i in range(1024):\n",
    "    last_conv_layer_output[:, :, i]*= pooled_grads[i]"
   ]
  },
  {
   "cell_type": "code",
   "execution_count": 23,
   "id": "2ca1458e",
   "metadata": {},
   "outputs": [],
   "source": [
    "heatmap=np.sum(last_conv_layer_output, axis=-1)"
   ]
  },
  {
   "cell_type": "code",
   "execution_count": 24,
   "id": "8104e26a",
   "metadata": {
    "scrolled": true
   },
   "outputs": [
    {
     "data": {
      "text/plain": [
       "<matplotlib.image.AxesImage at 0x1ec836b0250>"
      ]
     },
     "execution_count": 24,
     "metadata": {},
     "output_type": "execute_result"
    },
    {
     "data": {
      "image/png": "[encoded data removed]",
      "text/plain": [
       "<Figure size 288x288 with 1 Axes>"
      ]
     },
     "metadata": {
      "needs_background": "light"
     },
     "output_type": "display_data"
    }
   ],
   "source": [
    "heatmap=tf.nn.relu(heatmap) #applico la funzione di attivazione ReLU per evidenziare solo le regioni rilevanti?\n",
    "plt.matshow(heatmap)"
   ]
  },
  {
   "cell_type": "code",
   "execution_count": 25,
   "id": "638909e0",
   "metadata": {},
   "outputs": [
    {
     "data": {
      "text/plain": [
       "<matplotlib.image.AxesImage at 0x1ec8371eeb0>"
      ]
     },
     "execution_count": 25,
     "metadata": {},
     "output_type": "execute_result"
    },
    {
     "data": {
      "image/png": "[encoded data removed]",
      "text/plain": [
       "<Figure size 288x288 with 1 Axes>"
      ]
     },
     "metadata": {
      "needs_background": "light"
     },
     "output_type": "display_data"
    }
   ],
   "source": [
    "resized_heatmap=cv2.resize(np.array(heatmap), (224,224))\n",
    "#plt.matshow(resized_heatmap)\n",
    "plt.matshow(resized_heatmap*5+img_array[0,:,:,0]/255)"
   ]
  },
  {
   "cell_type": "code",
   "execution_count": null,
   "id": "4dbdea63",
   "metadata": {},
   "outputs": [],
   "source": []
  }
 ],
 "metadata": {
  "kernelspec": {
   "display_name": "Python 3",
   "language": "python",
   "name": "python3"
  },
  "language_info": {
   "codemirror_mode": {
    "name": "ipython",
    "version": 3
   },
   "file_extension": ".py",
   "mimetype": "text/x-python",
   "name": "python",
   "nbconvert_exporter": "python",
   "pygments_lexer": "ipython3",
   "version": "3.8.5"
  }
 },
 "nbformat": 4,
 "nbformat_minor": 5
}
